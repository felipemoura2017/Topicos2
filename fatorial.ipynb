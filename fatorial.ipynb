{
  "nbformat": 4,
  "nbformat_minor": 0,
  "metadata": {
    "colab": {
      "name": "fatorial.ipynb",
      "version": "0.3.2",
      "provenance": [],
      "collapsed_sections": [],
      "include_colab_link": true
    },
    "kernelspec": {
      "name": "python3",
      "display_name": "Python 3"
    }
  },
  "cells": [
    {
      "cell_type": "markdown",
      "metadata": {
        "id": "view-in-github",
        "colab_type": "text"
      },
      "source": [
        "<a href=\"https://colab.research.google.com/github/felipemoura2017/Topicos2/blob/master/fatorial.ipynb\" target=\"_parent\"><img src=\"https://colab.research.google.com/assets/colab-badge.svg\" alt=\"Open In Colab\"/></a>"
      ]
    },
    {
      "cell_type": "code",
      "metadata": {
        "id": "rNPwjp5sJOm8",
        "colab_type": "code",
        "colab": {
          "base_uri": "https://localhost:8080/",
          "height": 51
        },
        "outputId": "a8c61209-e83a-440e-c8f9-49493673dfd0"
      },
      "source": [
        "num = int(input(\"Digite um número:\"))\n",
        "resultado = num\n",
        "while num>1:\n",
        "  num = num - 1\n",
        "  resultado = resultado * num\n",
        "print (\"Resultado : \", resultado)\n",
        "\n"
      ],
      "execution_count": 25,
      "outputs": [
        {
          "output_type": "stream",
          "text": [
            "Escreva um número:102985624857\n",
            "Número Ímpar\n"
          ],
          "name": "stdout"
        }
      ]
    }
  ]
}