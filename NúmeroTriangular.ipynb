{
  "nbformat": 4,
  "nbformat_minor": 0,
  "metadata": {
    "colab": {
      "name": "NúmeroTriangular.ipynb",
      "version": "0.3.2",
      "provenance": [],
      "collapsed_sections": [],
      "include_colab_link": true
    },
    "kernelspec": {
      "name": "python3",
      "display_name": "Python 3"
    }
  },
  "cells": [
    {
      "cell_type": "markdown",
      "metadata": {
        "id": "view-in-github",
        "colab_type": "text"
      },
      "source": [
        "<a href=\"https://colab.research.google.com/github/felipemoura2017/Topicos2/blob/master/N%C3%BAmeroTriangular.ipynb\" target=\"_parent\"><img src=\"https://colab.research.google.com/assets/colab-badge.svg\" alt=\"Open In Colab\"/></a>"
      ]
    },
    {
      "cell_type": "code",
      "metadata": {
        "id": "rNPwjp5sJOm8",
        "colab_type": "code",
        "colab": {
          "base_uri": "https://localhost:8080/",
          "height": 51
        },
        "outputId": "5c45c057-db69-4a76-9a85-811e89782742"
      },
      "source": [
        "num = int(input(\"Digite um número:\"))\n",
        "c = 1\n",
        "x = 0\n",
        "\n",
        "while x < num:\n",
        "  x = c * (c+1) * (c+2)\n",
        "  c = c + 1\n",
        "  if x == num:\n",
        "    print (\"Número Triangular\")\n",
        "  elif x > num:\n",
        "     print (\"Número não triangular\")"
      ],
      "execution_count": 53,
      "outputs": [
        {
          "output_type": "stream",
          "text": [
            "Digite um número:120\n",
            "Número Triangular\n"
          ],
          "name": "stdout"
        }
      ]
    },
    {
      "cell_type": "code",
      "metadata": {
        "id": "YN1zslHoVJhR",
        "colab_type": "code",
        "colab": {}
      },
      "source": [
        ""
      ],
      "execution_count": 0,
      "outputs": []
    }
  ]
}